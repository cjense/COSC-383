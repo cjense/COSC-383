{
 "cells": [
  {
   "cell_type": "code",
   "execution_count": 1,
   "metadata": {},
   "outputs": [],
   "source": [
    "import utils\n",
    "import os\n",
    "import imageio.v3 as iio\n",
    "import decode_text as dt\n",
    "import sys"
   ]
  },
  {
   "cell_type": "markdown",
   "metadata": {},
   "source": [
    "#### Run decode_txt on every PNG"
   ]
  },
  {
   "cell_type": "code",
   "execution_count": null,
   "metadata": {},
   "outputs": [],
   "source": [
    "for file in os.listdir('PNGs'):\n",
    "    savename = file[:-4]\n",
    "    try:\n",
    "        dt.decode_txt('PNGs/' + file, 'decodedtxt/' + savename)\n",
    "    except:\n",
    "        print('Failed to decode ' + file)"
   ]
  },
  {
   "cell_type": "markdown",
   "metadata": {},
   "source": [
    "#### Iterate thru PNGs and save bitstring to .txt file"
   ]
  },
  {
   "cell_type": "code",
   "execution_count": null,
   "metadata": {},
   "outputs": [],
   "source": [
    "for filename in os.listdir('PNGs'):\n",
    "    filepath = 'PNGs/' + filename\n",
    "    savename = filename[:-4]\n",
    "    img = iio.imread(filepath)\n",
    "\n",
    "    path = 'decodedtxt/' + savename + '_decoded.txt'\n",
    "    sys.stdout = open(path, 'w')\n",
    "\n",
    "    print(utils.get_bits(img))"
   ]
  },
  {
   "cell_type": "markdown",
   "metadata": {},
   "source": [
    "#### Convert bitstrings into text"
   ]
  },
  {
   "cell_type": "code",
   "execution_count": null,
   "metadata": {},
   "outputs": [],
   "source": [
    "for filename in os.listdir('decodedtxt'):\n",
    "    filepath = 'decodedtxt/' + filename\n",
    "    savename = filename[:-4]\n",
    "\n",
    "    path = 'decodedtxt/' + savename + '_bitstoascii.txt'\n",
    "    sys.stdout = open(path, 'w')\n",
    "\n",
    "    print(dt.convert_txt(filepath, 'ascii'))"
   ]
  },
  {
   "cell_type": "markdown",
   "metadata": {},
   "source": [
    "#### Iterate through channels and grab text"
   ]
  },
  {
   "cell_type": "code",
   "execution_count": null,
   "metadata": {},
   "outputs": [],
   "source": [
    "for filename in os.listdir('decodedimages'):\n",
    "    filepath = 'decodedimages/' + filename\n",
    "    img = iio.imread(filepath)\n",
    "    print(\"Image is \", filename)\n",
    "    for i in range(0, 3):\n",
    "        bits = utils.getBitsFromSingleChannel(img, i)\n",
    "        print(\"Text from channel \", i)\n",
    "        print(dt.bits_to_str(bits, 340))"
   ]
  },
  {
   "cell_type": "markdown",
   "metadata": {},
   "source": [
    "#### Check different bits (not just LSB) for information"
   ]
  },
  {
   "cell_type": "code",
   "execution_count": 4,
   "metadata": {},
   "outputs": [
    {
     "name": "stdout",
     "output_type": "stream",
     "text": [
      "Failed to decode AlbumCover.png\n",
      "Failed to decode AlmostBoop.png\n",
      "Failed to decode altered_py.png\n",
      "Failed to decode AmVase.png\n",
      "Failed to decode Boyos.png\n",
      "Image is  BulbyTheBulby.png\n",
      "ªªªªªªªªªªªªªªªªªªªªªªªªªªªªªªªªªªªªªªªªªªªªªªªªªªªªªªªªªªªªªªªªªªªªªªªªªªªªªªªªªªªªªªªªªªªªªªªªªªªªªªªªªªªªªªªªªªªªªªªªªªªªªªªªªªªªªªªªªªªªªªªªªªªªªªªªªªªªªªªªªªªªªªªªªªªªªªªªªªªªªªªªªªªªªªªªªªªªªªªªªªªªªªªªªªªªªªªªªªªªªªªªªªªªªªªªªªªªªªªªªªªªªªªªªªªªªªªªªªªªªªªªªªªªªªªªªªªªªªªªªªªªªªªªªªªªªªªªªªªªªªªªªªªªªªªªªªªªªªªªªªªªªªªªªªªªªªªªªªªªªªªªªªªªªªªªªªªªªªªªªªªªªªªªªªªªªªªªªªªªªªªªªªªªªªªªªªªªªªªªªªªªªªªªªªªªªªªªªªªªªªªªªªªªªªªªªªªªªªªªªªªªªªªªªªªªªªªªªªªªªªªªªªªªªªªªªªªªªªªªªªªªªªªªªªªªªªªªªªªª\n",
      "Failed to decode Castle.png\n",
      "Failed to decode Chio1.png\n",
      "Failed to decode Chio2.png\n",
      "Failed to decode Drone_Footage_Frame001.png\n",
      "Failed to decode EagleInAmherst.png\n",
      "Failed to decode FlossyBoi.png\n",
      "Failed to decode FlyAway.png\n",
      "Failed to decode hide_image.png\n",
      "Failed to decode hide_text.png\n",
      "Failed to decode IsThatAMoth.png\n"
     ]
    },
    {
     "ename": "KeyboardInterrupt",
     "evalue": "",
     "output_type": "error",
     "traceback": [
      "\u001b[1;31m---------------------------------------------------------------------------\u001b[0m",
      "\u001b[1;31mKeyboardInterrupt\u001b[0m                         Traceback (most recent call last)",
      "\u001b[1;32mc:\\Users\\clair\\Desktop\\Coding\\COSC-383\\P4\\decode_text.ipynb Cell 11\u001b[0m in \u001b[0;36m<module>\u001b[1;34m\u001b[0m\n\u001b[0;32m      <a href='vscode-notebook-cell:/c%3A/Users/clair/Desktop/Coding/COSC-383/P4/decode_text.ipynb#X12sZmlsZQ%3D%3D?line=2'>3</a>\u001b[0m img \u001b[39m=\u001b[39m iio\u001b[39m.\u001b[39mimread(filepath)\n\u001b[0;32m      <a href='vscode-notebook-cell:/c%3A/Users/clair/Desktop/Coding/COSC-383/P4/decode_text.ipynb#X12sZmlsZQ%3D%3D?line=3'>4</a>\u001b[0m \u001b[39m# Extract bitstring\u001b[39;00m\n\u001b[1;32m----> <a href='vscode-notebook-cell:/c%3A/Users/clair/Desktop/Coding/COSC-383/P4/decode_text.ipynb#X12sZmlsZQ%3D%3D?line=4'>5</a>\u001b[0m bits \u001b[39m=\u001b[39m utils\u001b[39m.\u001b[39;49mget_bits(img, \u001b[39mlambda\u001b[39;49;00m x: x\u001b[39m&\u001b[39;49m\u001b[39m10\u001b[39;49m)  \u001b[39m# lambda gets LSB of x\u001b[39;00m\n\u001b[0;32m      <a href='vscode-notebook-cell:/c%3A/Users/clair/Desktop/Coding/COSC-383/P4/decode_text.ipynb#X12sZmlsZQ%3D%3D?line=6'>7</a>\u001b[0m chars_bitstring \u001b[39m=\u001b[39m bits[\u001b[39m0\u001b[39m:\u001b[39m32\u001b[39m]\n\u001b[0;32m      <a href='vscode-notebook-cell:/c%3A/Users/clair/Desktop/Coding/COSC-383/P4/decode_text.ipynb#X12sZmlsZQ%3D%3D?line=7'>8</a>\u001b[0m \u001b[39m# num_chars = int(chars_bitstring, 2)\u001b[39;00m\n\u001b[0;32m      <a href='vscode-notebook-cell:/c%3A/Users/clair/Desktop/Coding/COSC-383/P4/decode_text.ipynb#X12sZmlsZQ%3D%3D?line=8'>9</a>\u001b[0m \u001b[39m# Get number of chars from bitstring after header\u001b[39;00m\n",
      "File \u001b[1;32mc:\\Users\\clair\\Desktop\\Coding\\COSC-383\\P4\\utils.py:125\u001b[0m, in \u001b[0;36mget_bits\u001b[1;34m(img, func)\u001b[0m\n\u001b[0;32m    123\u001b[0m     \u001b[39mfor\u001b[39;00m c \u001b[39min\u001b[39;00m \u001b[39mrange\u001b[39m(width):\n\u001b[0;32m    124\u001b[0m         \u001b[39mfor\u001b[39;00m x \u001b[39min\u001b[39;00m \u001b[39mrange\u001b[39m(\u001b[39m3\u001b[39m):\n\u001b[1;32m--> 125\u001b[0m             bits \u001b[39m+\u001b[39m\u001b[39m=\u001b[39m \u001b[39mstr\u001b[39m(func(img[r, c, x]))\n\u001b[0;32m    126\u001b[0m \u001b[39mreturn\u001b[39;00m bits\n",
      "\u001b[1;32mc:\\Users\\clair\\Desktop\\Coding\\COSC-383\\P4\\decode_text.ipynb Cell 11\u001b[0m in \u001b[0;36m<lambda>\u001b[1;34m(x)\u001b[0m\n\u001b[0;32m      <a href='vscode-notebook-cell:/c%3A/Users/clair/Desktop/Coding/COSC-383/P4/decode_text.ipynb#X12sZmlsZQ%3D%3D?line=2'>3</a>\u001b[0m img \u001b[39m=\u001b[39m iio\u001b[39m.\u001b[39mimread(filepath)\n\u001b[0;32m      <a href='vscode-notebook-cell:/c%3A/Users/clair/Desktop/Coding/COSC-383/P4/decode_text.ipynb#X12sZmlsZQ%3D%3D?line=3'>4</a>\u001b[0m \u001b[39m# Extract bitstring\u001b[39;00m\n\u001b[1;32m----> <a href='vscode-notebook-cell:/c%3A/Users/clair/Desktop/Coding/COSC-383/P4/decode_text.ipynb#X12sZmlsZQ%3D%3D?line=4'>5</a>\u001b[0m bits \u001b[39m=\u001b[39m utils\u001b[39m.\u001b[39mget_bits(img, \u001b[39mlambda\u001b[39;00m x: x\u001b[39m&\u001b[39m\u001b[39m10\u001b[39m)  \u001b[39m# lambda gets LSB of x\u001b[39;00m\n\u001b[0;32m      <a href='vscode-notebook-cell:/c%3A/Users/clair/Desktop/Coding/COSC-383/P4/decode_text.ipynb#X12sZmlsZQ%3D%3D?line=6'>7</a>\u001b[0m chars_bitstring \u001b[39m=\u001b[39m bits[\u001b[39m0\u001b[39m:\u001b[39m32\u001b[39m]\n\u001b[0;32m      <a href='vscode-notebook-cell:/c%3A/Users/clair/Desktop/Coding/COSC-383/P4/decode_text.ipynb#X12sZmlsZQ%3D%3D?line=7'>8</a>\u001b[0m \u001b[39m# num_chars = int(chars_bitstring, 2)\u001b[39;00m\n\u001b[0;32m      <a href='vscode-notebook-cell:/c%3A/Users/clair/Desktop/Coding/COSC-383/P4/decode_text.ipynb#X12sZmlsZQ%3D%3D?line=8'>9</a>\u001b[0m \u001b[39m# Get number of chars from bitstring after header\u001b[39;00m\n",
      "\u001b[1;31mKeyboardInterrupt\u001b[0m: "
     ]
    }
   ],
   "source": [
    "for filename in os.listdir('PNGs'):\n",
    "    filepath = 'PNGs/' + filename\n",
    "    img = iio.imread(filepath)\n",
    "    # Extract bitstring\n",
    "    bits = utils.get_bits(img, lambda x: x&1)  # lambda gets LSB of x\n",
    "\n",
    "    chars_bitstring = bits[0:32]\n",
    "    # num_chars = int(chars_bitstring, 2)\n",
    "    # Get number of chars from bitstring after header\n",
    "    try:\n",
    "        num_chars = int(chars_bitstring, 2)\n",
    "        string = dt.bits_to_str(bits[32:], 500)\n",
    "        print(\"Image is \", filename)\n",
    "        print(string)\n",
    "    except:\n",
    "        print('Failed to decode ' + filename)"
   ]
  }
 ],
 "metadata": {
  "kernelspec": {
   "display_name": "Python 3.8.10 64-bit (microsoft store)",
   "language": "python",
   "name": "python3"
  },
  "language_info": {
   "codemirror_mode": {
    "name": "ipython",
    "version": 3
   },
   "file_extension": ".py",
   "mimetype": "text/x-python",
   "name": "python",
   "nbconvert_exporter": "python",
   "pygments_lexer": "ipython3",
   "version": "3.8.10"
  },
  "orig_nbformat": 4,
  "vscode": {
   "interpreter": {
    "hash": "01e675fccc2f0d483d2682ed4aac80494c5ab75c866ff3178f94c9882da53059"
   }
  }
 },
 "nbformat": 4,
 "nbformat_minor": 2
}
