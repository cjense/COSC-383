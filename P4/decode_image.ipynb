{
 "cells": [
  {
   "cell_type": "code",
   "execution_count": 3,
   "metadata": {},
   "outputs": [],
   "source": [
    "import utils\n",
    "import os\n",
    "import decode_image as di\n",
    "import imageio.v3 as iio"
   ]
  },
  {
   "cell_type": "code",
   "execution_count": null,
   "metadata": {},
   "outputs": [],
   "source": [
    "for file in os.listdir('PNGs'):\n",
    "    savename = file[:-4]\n",
    "    try:\n",
    "        di.decode_img('PNGs/' + file, 'decodedimages/' + savename + '_decoded.png')\n",
    "    except:\n",
    "        print('Error decoding', file)"
   ]
  },
  {
   "cell_type": "code",
   "execution_count": null,
   "metadata": {},
   "outputs": [],
   "source": [
    "filename = 'decodedimages/Castle_decoded.png'\n",
    "\n",
    "img = iio.imread(filename)\n",
    "\n",
    "utils.save(utils.magnify_LSB(img), 'decodedimages/Castle_decoded_magnified.png')\n",
    "# utils.magnify_LSB(img).show()"
   ]
  }
 ],
 "metadata": {
  "kernelspec": {
   "display_name": "Python 3.8.10 64-bit (microsoft store)",
   "language": "python",
   "name": "python3"
  },
  "language_info": {
   "codemirror_mode": {
    "name": "ipython",
    "version": 3
   },
   "file_extension": ".py",
   "mimetype": "text/x-python",
   "name": "python",
   "nbconvert_exporter": "python",
   "pygments_lexer": "ipython3",
   "version": "3.8.10"
  },
  "orig_nbformat": 4,
  "vscode": {
   "interpreter": {
    "hash": "01e675fccc2f0d483d2682ed4aac80494c5ab75c866ff3178f94c9882da53059"
   }
  }
 },
 "nbformat": 4,
 "nbformat_minor": 2
}
