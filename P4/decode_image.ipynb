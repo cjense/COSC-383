{
 "cells": [
  {
   "cell_type": "code",
   "execution_count": 2,
   "metadata": {},
   "outputs": [],
   "source": [
    "import utils\n",
    "import os\n",
    "import decode_image as di\n",
    "import imageio.v3 as iio\n",
    "import decode_text as dt\n",
    "import decode_image2 as di2"
   ]
  },
  {
   "cell_type": "markdown",
   "metadata": {},
   "source": [
    "#### Run decode_img on all PNGs"
   ]
  },
  {
   "cell_type": "code",
   "execution_count": 3,
   "metadata": {},
   "outputs": [
    {
     "name": "stdout",
     "output_type": "stream",
     "text": [
      "Error decoding AlbumCover.png\n",
      "Height: 3207581956, width: 2259980947\n",
      "Error decoding AlmostBoop.png\n"
     ]
    }
   ],
   "source": [
    "for file in os.listdir('PNGs'):\n",
    "    savename = file[:-4]\n",
    "    try:\n",
    "        di.decode_img('PNGs/' + file, 'decoded_images_reversed/' + savename + '_decoded2.png')\n",
    "    except:\n",
    "        print('Error decoding', file)"
   ]
  },
  {
   "cell_type": "markdown",
   "metadata": {},
   "source": [
    "#### Magnify LSB of a decoded image"
   ]
  },
  {
   "cell_type": "code",
   "execution_count": null,
   "metadata": {},
   "outputs": [],
   "source": [
    "filename = 'decodedimages/Castle_decoded.png'\n",
    "\n",
    "img = iio.imread(filename)\n",
    "\n",
    "utils.save(utils.magnify_LSB(img), 'decodedimages/Castle_decoded_magnified.png')\n",
    "# utils.magnify_LSB(img).show()"
   ]
  },
  {
   "cell_type": "markdown",
   "metadata": {},
   "source": [
    "#### Testing Itertools"
   ]
  },
  {
   "cell_type": "code",
   "execution_count": 6,
   "metadata": {},
   "outputs": [
    {
     "name": "stdout",
     "output_type": "stream",
     "text": [
      "<itertools.product object at 0x000001D91DE19780>\n"
     ]
    }
   ],
   "source": [
    "filename = 'PNGs/AlbumCover.png'\n",
    "\n",
    "img = iio.imread(filename)\n",
    "\n",
    "print(utils.get_bits_iter(img))"
   ]
  },
  {
   "cell_type": "code",
   "execution_count": 6,
   "metadata": {},
   "outputs": [
    {
     "name": "stdout",
     "output_type": "stream",
     "text": [
      "File is:  decodedimages/Lurking_Color_Balanced_decoded.png\n",
      "Channel is:  0\n"
     ]
    },
    {
     "ename": "TypeError",
     "evalue": "sequence item 0: expected str instance, numpy.intc found",
     "output_type": "error",
     "traceback": [
      "\u001b[1;31m---------------------------------------------------------------------------\u001b[0m",
      "\u001b[1;31mTypeError\u001b[0m                                 Traceback (most recent call last)",
      "\u001b[1;32mc:\\Users\\clair\\Desktop\\Coding\\COSC-383\\P4\\decode_image.ipynb Cell 8\u001b[0m in \u001b[0;36m<module>\u001b[1;34m\u001b[0m\n\u001b[0;32m      <a href='vscode-notebook-cell:/c%3A/Users/clair/Desktop/Coding/COSC-383/P4/decode_image.ipynb#X10sZmlsZQ%3D%3D?line=6'>7</a>\u001b[0m \u001b[39mprint\u001b[39m(\u001b[39m\"\u001b[39m\u001b[39mChannel is: \u001b[39m\u001b[39m\"\u001b[39m, i)\n\u001b[0;32m      <a href='vscode-notebook-cell:/c%3A/Users/clair/Desktop/Coding/COSC-383/P4/decode_image.ipynb#X10sZmlsZQ%3D%3D?line=7'>8</a>\u001b[0m bitstring \u001b[39m=\u001b[39m utils\u001b[39m.\u001b[39mgetTextFromSingleChannel(img, i)\n\u001b[1;32m---> <a href='vscode-notebook-cell:/c%3A/Users/clair/Desktop/Coding/COSC-383/P4/decode_image.ipynb#X10sZmlsZQ%3D%3D?line=9'>10</a>\u001b[0m dt\u001b[39m.\u001b[39;49mbits_to_str(bitstring, \u001b[39mlen\u001b[39;49m(bitstring))\n",
      "File \u001b[1;32mc:\\Users\\clair\\Desktop\\Coding\\COSC-383\\P4\\decode_text.py:15\u001b[0m, in \u001b[0;36mbits_to_str\u001b[1;34m(bits, num_chars)\u001b[0m\n\u001b[0;32m      8\u001b[0m \u001b[39m\"\"\"Given a list of bits, read them as a string\u001b[39;00m\n\u001b[0;32m      9\u001b[0m \u001b[39m\u001b[39;00m\n\u001b[0;32m     10\u001b[0m \u001b[39m@param bits: a bitstring expected to have at least 8*num_chars bits,\u001b[39;00m\n\u001b[0;32m     11\u001b[0m \u001b[39m    representing the ASCII values of the characters of the text\u001b[39;00m\n\u001b[0;32m     12\u001b[0m \u001b[39m@param num_chars: how many characters of text to read\u001b[39;00m\n\u001b[0;32m     13\u001b[0m \u001b[39m@return: the bits read as num_chars worth of text\"\"\"\u001b[39;00m\n\u001b[0;32m     14\u001b[0m \u001b[39m# Chunk bits into bytes/chars\u001b[39;00m\n\u001b[1;32m---> 15\u001b[0m \u001b[39mbytes\u001b[39m \u001b[39m=\u001b[39m utils\u001b[39m.\u001b[39;49mbits_to_bytes(bits[:num_chars\u001b[39m*\u001b[39;49m\u001b[39m8\u001b[39;49m])\n\u001b[0;32m     16\u001b[0m \u001b[39m# Convert bytes into ints for ASCII chars\u001b[39;00m\n\u001b[0;32m     17\u001b[0m ascii \u001b[39m=\u001b[39m [\u001b[39mint\u001b[39m(b, \u001b[39m2\u001b[39m) \u001b[39mfor\u001b[39;00m b \u001b[39min\u001b[39;00m \u001b[39mbytes\u001b[39m]\n",
      "File \u001b[1;32mc:\\Users\\clair\\Desktop\\Coding\\COSC-383\\P4\\utils.py:57\u001b[0m, in \u001b[0;36mbits_to_bytes\u001b[1;34m(bitstring)\u001b[0m\n\u001b[0;32m     55\u001b[0m \u001b[39mbytes\u001b[39m \u001b[39m=\u001b[39m []\n\u001b[0;32m     56\u001b[0m \u001b[39mfor\u001b[39;00m i \u001b[39min\u001b[39;00m \u001b[39mrange\u001b[39m(\u001b[39mlen\u001b[39m(bitstring) \u001b[39m/\u001b[39m\u001b[39m/\u001b[39m \u001b[39m8\u001b[39m):\n\u001b[1;32m---> 57\u001b[0m     byte \u001b[39m=\u001b[39m \u001b[39m'\u001b[39;49m\u001b[39m'\u001b[39;49m\u001b[39m.\u001b[39;49mjoin(bitstring[i\u001b[39m*\u001b[39;49m\u001b[39m8\u001b[39;49m:(i\u001b[39m+\u001b[39;49m\u001b[39m1\u001b[39;49m)\u001b[39m*\u001b[39;49m\u001b[39m8\u001b[39;49m])  \u001b[39m# Drops any at the end that don't fit into a multiple of 8\u001b[39;00m\n\u001b[0;32m     58\u001b[0m     \u001b[39mbytes\u001b[39m\u001b[39m.\u001b[39mappend(byte)\n\u001b[0;32m     59\u001b[0m \u001b[39mreturn\u001b[39;00m \u001b[39mbytes\u001b[39m\n",
      "\u001b[1;31mTypeError\u001b[0m: sequence item 0: expected str instance, numpy.intc found"
     ]
    }
   ],
   "source": [
    "filename = 'decodedimages/Lurking_Color_Balanced_decoded.png'\n",
    "\n",
    "img = iio.imread(filename)\n",
    "\n",
    "for i in range(3):\n",
    "    print(\"File is: \", filename)\n",
    "    print(\"Channel is: \", i)\n",
    "    bitstring = utils.getTextFromSingleChannel(img, i)\n",
    "\n",
    "    dt.bits_to_str(bitstring, len(bitstring))"
   ]
  }
 ],
 "metadata": {
  "kernelspec": {
   "display_name": "Python 3.8.10 64-bit (microsoft store)",
   "language": "python",
   "name": "python3"
  },
  "language_info": {
   "codemirror_mode": {
    "name": "ipython",
    "version": 3
   },
   "file_extension": ".py",
   "mimetype": "text/x-python",
   "name": "python",
   "nbconvert_exporter": "python",
   "pygments_lexer": "ipython3",
   "version": "3.8.10"
  },
  "orig_nbformat": 4,
  "vscode": {
   "interpreter": {
    "hash": "01e675fccc2f0d483d2682ed4aac80494c5ab75c866ff3178f94c9882da53059"
   }
  }
 },
 "nbformat": 4,
 "nbformat_minor": 2
}
