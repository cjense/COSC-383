{
 "cells": [
  {
   "cell_type": "code",
   "execution_count": 19,
   "metadata": {},
   "outputs": [],
   "source": [
    "import hiddenimage as hi\n",
    "import decode_image as di\n",
    "import os"
   ]
  },
  {
   "cell_type": "code",
   "execution_count": 20,
   "metadata": {},
   "outputs": [
    {
     "ename": "AttributeError",
     "evalue": "'str' object has no attribute 'shape'",
     "output_type": "error",
     "traceback": [
      "\u001b[1;31m---------------------------------------------------------------------------\u001b[0m",
      "\u001b[1;31mAttributeError\u001b[0m                            Traceback (most recent call last)",
      "\u001b[1;32mc:\\Users\\clair\\Desktop\\Coding\\COSC-383\\P4\\decodeimages.ipynb Cell 2\u001b[0m in \u001b[0;36m<module>\u001b[1;34m\u001b[0m\n\u001b[0;32m      <a href='vscode-notebook-cell:/c%3A/Users/clair/Desktop/Coding/COSC-383/P4/decodeimages.ipynb#W1sZmlsZQ%3D%3D?line=0'>1</a>\u001b[0m \u001b[39mfor\u001b[39;00m file \u001b[39min\u001b[39;00m os\u001b[39m.\u001b[39mlistdir(\u001b[39m'\u001b[39m\u001b[39mPNGs\u001b[39m\u001b[39m'\u001b[39m):\n\u001b[1;32m----> <a href='vscode-notebook-cell:/c%3A/Users/clair/Desktop/Coding/COSC-383/P4/decodeimages.ipynb#W1sZmlsZQ%3D%3D?line=1'>2</a>\u001b[0m     hi\u001b[39m.\u001b[39;49mget_hw(\u001b[39m'\u001b[39;49m\u001b[39mPNGs/\u001b[39;49m\u001b[39m'\u001b[39;49m \u001b[39m+\u001b[39;49m file)\n",
      "File \u001b[1;32mc:\\Users\\clair\\Desktop\\Coding\\COSC-383\\P4\\hiddenimage.py:21\u001b[0m, in \u001b[0;36mget_hw\u001b[1;34m(img)\u001b[0m\n\u001b[0;32m     20\u001b[0m \u001b[39mdef\u001b[39;00m \u001b[39mget_hw\u001b[39m(img):\n\u001b[1;32m---> 21\u001b[0m     height, width, _ \u001b[39m=\u001b[39m img\u001b[39m.\u001b[39;49mshape\n\u001b[0;32m     22\u001b[0m     \u001b[39mprint\u001b[39m(\u001b[39m\"\u001b[39m\u001b[39mHeight:\u001b[39m\u001b[39m\"\u001b[39m, height, \u001b[39m\"\u001b[39m\u001b[39mWidth:\u001b[39m\u001b[39m\"\u001b[39m, width)\n\u001b[0;32m     23\u001b[0m     \u001b[39mreturn\u001b[39;00m [height, width]\n",
      "\u001b[1;31mAttributeError\u001b[0m: 'str' object has no attribute 'shape'"
     ]
    }
   ],
   "source": [
    "for file in os.listdir('PNGs'):\n",
    "    hi.get_hw('PNGs/' + file)"
   ]
  }
 ],
 "metadata": {
  "kernelspec": {
   "display_name": "Python 3.8.10 64-bit (microsoft store)",
   "language": "python",
   "name": "python3"
  },
  "language_info": {
   "codemirror_mode": {
    "name": "ipython",
    "version": 3
   },
   "file_extension": ".py",
   "mimetype": "text/x-python",
   "name": "python",
   "nbconvert_exporter": "python",
   "pygments_lexer": "ipython3",
   "version": "3.8.10"
  },
  "orig_nbformat": 4,
  "vscode": {
   "interpreter": {
    "hash": "01e675fccc2f0d483d2682ed4aac80494c5ab75c866ff3178f94c9882da53059"
   }
  }
 },
 "nbformat": 4,
 "nbformat_minor": 2
}
